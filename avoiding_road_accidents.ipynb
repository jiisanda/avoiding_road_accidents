{
 "cells": [
  {
   "cell_type": "markdown",
   "id": "8a77807f92f26ee",
   "metadata": {},
   "source": [
    "# Avoiding Road Accidents\n",
    "\n",
    "## Dataset: \n",
    "\n",
    "http://vllab1.ucmerced.edu/~hhsu22/rear_signal/rear_signal#\n",
    "\n",
    "### Dataset statistics\n",
    "\n",
    "Total sequences: 649\n",
    "Total frames: 63637\n",
    "\n",
    "*Number of sequences in each class*:\n",
    "\n",
    "OOO: 188 BOO: 211 OLO: 78 BLO: 63\n",
    "\n",
    "OOR:  58 BOR:  33 OLR:  9 BLR:  9\n",
    "\n",
    "*Number of frames in each class:*:\n",
    "\n",
    "\n",
    "OOO: 21867 BOO: 17874 OLO: 6271 BLO: 6380\n",
    "\n",
    "OOR:  4728 BOR:  3527 OLR: 1600 BLR: 1390"
   ]
  },
  {
   "cell_type": "code",
   "execution_count": 1,
   "id": "6c202767a3474f8c",
   "metadata": {
    "ExecuteTime": {
     "end_time": "2025-02-23T15:54:40.461852Z",
     "start_time": "2025-02-23T15:54:40.421006Z"
    }
   },
   "outputs": [
    {
     "name": "stdout",
     "output_type": "stream",
     "text": [
      "nvcc: NVIDIA (R) Cuda compiler driver\n",
      "Copyright (c) 2005-2025 NVIDIA Corporation\n",
      "Built on Wed_Jan_15_19:38:46_Pacific_Standard_Time_2025\n",
      "Cuda compilation tools, release 12.8, V12.8.61\n",
      "Build cuda_12.8.r12.8/compiler.35404655_0\n"
     ]
    }
   ],
   "source": [
    "!nvcc --version"
   ]
  },
  {
   "cell_type": "code",
   "execution_count": 2,
   "id": "b7ba0014fb86ece9",
   "metadata": {},
   "outputs": [
    {
     "name": "stdout",
     "output_type": "stream",
     "text": [
      "Looking in indexes: https://download.pytorch.org/whl/cu118\n",
      "Requirement already satisfied: torch in c:\\users\\harsh\\projects\\avoiding_road_accidents\\.venv\\lib\\site-packages (2.6.0+cu118)\n",
      "Requirement already satisfied: torchvision in c:\\users\\harsh\\projects\\avoiding_road_accidents\\.venv\\lib\\site-packages (0.21.0)\n",
      "Requirement already satisfied: torchaudio in c:\\users\\harsh\\projects\\avoiding_road_accidents\\.venv\\lib\\site-packages (2.6.0)\n",
      "Requirement already satisfied: filelock in c:\\users\\harsh\\projects\\avoiding_road_accidents\\.venv\\lib\\site-packages (from torch) (3.17.0)\n",
      "Requirement already satisfied: typing-extensions>=4.10.0 in c:\\users\\harsh\\projects\\avoiding_road_accidents\\.venv\\lib\\site-packages (from torch) (4.12.2)\n",
      "Requirement already satisfied: networkx in c:\\users\\harsh\\projects\\avoiding_road_accidents\\.venv\\lib\\site-packages (from torch) (3.4.2)\n",
      "Requirement already satisfied: jinja2 in c:\\users\\harsh\\projects\\avoiding_road_accidents\\.venv\\lib\\site-packages (from torch) (3.1.5)\n",
      "Requirement already satisfied: fsspec in c:\\users\\harsh\\projects\\avoiding_road_accidents\\.venv\\lib\\site-packages (from torch) (2025.2.0)\n",
      "Requirement already satisfied: setuptools in c:\\users\\harsh\\projects\\avoiding_road_accidents\\.venv\\lib\\site-packages (from torch) (75.8.0)\n",
      "Requirement already satisfied: sympy==1.13.1 in c:\\users\\harsh\\projects\\avoiding_road_accidents\\.venv\\lib\\site-packages (from torch) (1.13.1)\n",
      "Requirement already satisfied: mpmath<1.4,>=1.1.0 in c:\\users\\harsh\\projects\\avoiding_road_accidents\\.venv\\lib\\site-packages (from sympy==1.13.1->torch) (1.3.0)\n",
      "Requirement already satisfied: numpy in c:\\users\\harsh\\projects\\avoiding_road_accidents\\.venv\\lib\\site-packages (from torchvision) (2.1.1)\n",
      "Requirement already satisfied: pillow!=8.3.*,>=5.3.0 in c:\\users\\harsh\\projects\\avoiding_road_accidents\\.venv\\lib\\site-packages (from torchvision) (11.1.0)\n",
      "Requirement already satisfied: MarkupSafe>=2.0 in c:\\users\\harsh\\projects\\avoiding_road_accidents\\.venv\\lib\\site-packages (from jinja2->torch) (3.0.2)\n"
     ]
    },
    {
     "name": "stderr",
     "output_type": "stream",
     "text": [
      "\n",
      "[notice] A new release of pip is available: 23.2.1 -> 25.0.1\n",
      "[notice] To update, run: python.exe -m pip install --upgrade pip\n"
     ]
    }
   ],
   "source": [
    "!pip install torch torchvision torchaudio --index-url https://download.pytorch.org/whl/cu118"
   ]
  },
  {
   "cell_type": "code",
   "execution_count": 3,
   "id": "fb3c4dee56be0d03",
   "metadata": {
    "ExecuteTime": {
     "end_time": "2025-02-23T16:29:18.641844Z",
     "start_time": "2025-02-23T16:29:15.572201Z"
    }
   },
   "outputs": [
    {
     "name": "stdout",
     "output_type": "stream",
     "text": [
      "2.6.0+cu118\n",
      "11.8\n",
      "90100\n"
     ]
    }
   ],
   "source": [
    "!python -c \"import torch; print(torch.__version__); print(torch.version.cuda); print(torch.backends.cudnn.version())\"\n"
   ]
  },
  {
   "cell_type": "code",
   "execution_count": 4,
   "id": "fbc121e30a2defb3",
   "metadata": {
    "ExecuteTime": {
     "end_time": "2025-02-23T16:27:13.457397Z",
     "start_time": "2025-02-23T16:27:12.214085Z"
    }
   },
   "outputs": [
    {
     "name": "stdout",
     "output_type": "stream",
     "text": [
      "CUDA available: True\n",
      "Current device: NVIDIA GeForce RTX 3050 Laptop GPU\n"
     ]
    }
   ],
   "source": [
    "import torch\n",
    "print(f\"CUDA available: {torch.cuda.is_available()}\")\n",
    "print(f\"Current device: {torch.cuda.get_device_name(0)}\")"
   ]
  },
  {
   "cell_type": "code",
   "execution_count": 5,
   "id": "ef3f115278104098",
   "metadata": {},
   "outputs": [
    {
     "name": "stdout",
     "output_type": "stream",
     "text": [
      "Requirement already satisfied: opencv-python in c:\\users\\harsh\\projects\\avoiding_road_accidents\\.venv\\lib\\site-packages (4.11.0.86)\n",
      "Requirement already satisfied: numpy>=1.21.2 in c:\\users\\harsh\\projects\\avoiding_road_accidents\\.venv\\lib\\site-packages (from opencv-python) (2.1.1)\n"
     ]
    },
    {
     "name": "stderr",
     "output_type": "stream",
     "text": [
      "\n",
      "[notice] A new release of pip is available: 23.2.1 -> 25.0.1\n",
      "[notice] To update, run: python.exe -m pip install --upgrade pip\n"
     ]
    },
    {
     "name": "stdout",
     "output_type": "stream",
     "text": [
      "Requirement already satisfied: ultralytics in c:\\users\\harsh\\projects\\avoiding_road_accidents\\.venv\\lib\\site-packages (8.0.196)\n",
      "Requirement already satisfied: matplotlib>=3.3.0 in c:\\users\\harsh\\projects\\avoiding_road_accidents\\.venv\\lib\\site-packages (from ultralytics) (3.10.0)\n",
      "Requirement already satisfied: numpy>=1.22.2 in c:\\users\\harsh\\projects\\avoiding_road_accidents\\.venv\\lib\\site-packages (from ultralytics) (2.1.1)\n",
      "Requirement already satisfied: opencv-python>=4.6.0 in c:\\users\\harsh\\projects\\avoiding_road_accidents\\.venv\\lib\\site-packages (from ultralytics) (4.11.0.86)\n",
      "Requirement already satisfied: pillow>=7.1.2 in c:\\users\\harsh\\projects\\avoiding_road_accidents\\.venv\\lib\\site-packages (from ultralytics) (11.1.0)\n",
      "Requirement already satisfied: pyyaml>=5.3.1 in c:\\users\\harsh\\projects\\avoiding_road_accidents\\.venv\\lib\\site-packages (from ultralytics) (6.0.2)\n",
      "Requirement already satisfied: requests>=2.23.0 in c:\\users\\harsh\\projects\\avoiding_road_accidents\\.venv\\lib\\site-packages (from ultralytics) (2.32.3)\n",
      "Requirement already satisfied: scipy>=1.4.1 in c:\\users\\harsh\\projects\\avoiding_road_accidents\\.venv\\lib\\site-packages (from ultralytics) (1.15.2)\n",
      "Requirement already satisfied: torch>=1.8.0 in c:\\users\\harsh\\projects\\avoiding_road_accidents\\.venv\\lib\\site-packages (from ultralytics) (2.6.0+cu118)\n",
      "Requirement already satisfied: torchvision>=0.9.0 in c:\\users\\harsh\\projects\\avoiding_road_accidents\\.venv\\lib\\site-packages (from ultralytics) (0.21.0)\n",
      "Requirement already satisfied: tqdm>=4.64.0 in c:\\users\\harsh\\projects\\avoiding_road_accidents\\.venv\\lib\\site-packages (from ultralytics) (4.67.1)\n",
      "Requirement already satisfied: pandas>=1.1.4 in c:\\users\\harsh\\projects\\avoiding_road_accidents\\.venv\\lib\\site-packages (from ultralytics) (2.2.3)\n",
      "Requirement already satisfied: seaborn>=0.11.0 in c:\\users\\harsh\\projects\\avoiding_road_accidents\\.venv\\lib\\site-packages (from ultralytics) (0.13.2)\n",
      "Requirement already satisfied: psutil in c:\\users\\harsh\\projects\\avoiding_road_accidents\\.venv\\lib\\site-packages (from ultralytics) (7.0.0)\n",
      "Requirement already satisfied: py-cpuinfo in c:\\users\\harsh\\projects\\avoiding_road_accidents\\.venv\\lib\\site-packages (from ultralytics) (9.0.0)\n",
      "Requirement already satisfied: thop>=0.1.1 in c:\\users\\harsh\\projects\\avoiding_road_accidents\\.venv\\lib\\site-packages (from ultralytics) (0.1.1.post2209072238)\n",
      "Requirement already satisfied: contourpy>=1.0.1 in c:\\users\\harsh\\projects\\avoiding_road_accidents\\.venv\\lib\\site-packages (from matplotlib>=3.3.0->ultralytics) (1.3.1)\n",
      "Requirement already satisfied: cycler>=0.10 in c:\\users\\harsh\\projects\\avoiding_road_accidents\\.venv\\lib\\site-packages (from matplotlib>=3.3.0->ultralytics) (0.12.1)\n",
      "Requirement already satisfied: fonttools>=4.22.0 in c:\\users\\harsh\\projects\\avoiding_road_accidents\\.venv\\lib\\site-packages (from matplotlib>=3.3.0->ultralytics) (4.56.0)\n",
      "Requirement already satisfied: kiwisolver>=1.3.1 in c:\\users\\harsh\\projects\\avoiding_road_accidents\\.venv\\lib\\site-packages (from matplotlib>=3.3.0->ultralytics) (1.4.8)\n",
      "Requirement already satisfied: packaging>=20.0 in c:\\users\\harsh\\projects\\avoiding_road_accidents\\.venv\\lib\\site-packages (from matplotlib>=3.3.0->ultralytics) (24.2)\n",
      "Requirement already satisfied: pyparsing>=2.3.1 in c:\\users\\harsh\\projects\\avoiding_road_accidents\\.venv\\lib\\site-packages (from matplotlib>=3.3.0->ultralytics) (3.2.1)\n",
      "Requirement already satisfied: python-dateutil>=2.7 in c:\\users\\harsh\\projects\\avoiding_road_accidents\\.venv\\lib\\site-packages (from matplotlib>=3.3.0->ultralytics) (2.9.0.post0)\n",
      "Requirement already satisfied: pytz>=2020.1 in c:\\users\\harsh\\projects\\avoiding_road_accidents\\.venv\\lib\\site-packages (from pandas>=1.1.4->ultralytics) (2025.1)\n",
      "Requirement already satisfied: tzdata>=2022.7 in c:\\users\\harsh\\projects\\avoiding_road_accidents\\.venv\\lib\\site-packages (from pandas>=1.1.4->ultralytics) (2025.1)\n",
      "Requirement already satisfied: charset-normalizer<4,>=2 in c:\\users\\harsh\\projects\\avoiding_road_accidents\\.venv\\lib\\site-packages (from requests>=2.23.0->ultralytics) (3.4.1)\n",
      "Requirement already satisfied: idna<4,>=2.5 in c:\\users\\harsh\\projects\\avoiding_road_accidents\\.venv\\lib\\site-packages (from requests>=2.23.0->ultralytics) (3.10)\n",
      "Requirement already satisfied: urllib3<3,>=1.21.1 in c:\\users\\harsh\\projects\\avoiding_road_accidents\\.venv\\lib\\site-packages (from requests>=2.23.0->ultralytics) (2.3.0)\n",
      "Requirement already satisfied: certifi>=2017.4.17 in c:\\users\\harsh\\projects\\avoiding_road_accidents\\.venv\\lib\\site-packages (from requests>=2.23.0->ultralytics) (2025.1.31)\n",
      "Requirement already satisfied: filelock in c:\\users\\harsh\\projects\\avoiding_road_accidents\\.venv\\lib\\site-packages (from torch>=1.8.0->ultralytics) (3.17.0)\n",
      "Requirement already satisfied: typing-extensions>=4.10.0 in c:\\users\\harsh\\projects\\avoiding_road_accidents\\.venv\\lib\\site-packages (from torch>=1.8.0->ultralytics) (4.12.2)\n",
      "Requirement already satisfied: networkx in c:\\users\\harsh\\projects\\avoiding_road_accidents\\.venv\\lib\\site-packages (from torch>=1.8.0->ultralytics) (3.4.2)\n",
      "Requirement already satisfied: jinja2 in c:\\users\\harsh\\projects\\avoiding_road_accidents\\.venv\\lib\\site-packages (from torch>=1.8.0->ultralytics) (3.1.5)\n",
      "Requirement already satisfied: fsspec in c:\\users\\harsh\\projects\\avoiding_road_accidents\\.venv\\lib\\site-packages (from torch>=1.8.0->ultralytics) (2025.2.0)\n",
      "Requirement already satisfied: setuptools in c:\\users\\harsh\\projects\\avoiding_road_accidents\\.venv\\lib\\site-packages (from torch>=1.8.0->ultralytics) (75.8.0)\n",
      "Requirement already satisfied: sympy==1.13.1 in c:\\users\\harsh\\projects\\avoiding_road_accidents\\.venv\\lib\\site-packages (from torch>=1.8.0->ultralytics) (1.13.1)\n",
      "Requirement already satisfied: mpmath<1.4,>=1.1.0 in c:\\users\\harsh\\projects\\avoiding_road_accidents\\.venv\\lib\\site-packages (from sympy==1.13.1->torch>=1.8.0->ultralytics) (1.3.0)\n",
      "Requirement already satisfied: colorama in c:\\users\\harsh\\projects\\avoiding_road_accidents\\.venv\\lib\\site-packages (from tqdm>=4.64.0->ultralytics) (0.4.6)\n",
      "Requirement already satisfied: six>=1.5 in c:\\users\\harsh\\projects\\avoiding_road_accidents\\.venv\\lib\\site-packages (from python-dateutil>=2.7->matplotlib>=3.3.0->ultralytics) (1.17.0)\n",
      "Requirement already satisfied: MarkupSafe>=2.0 in c:\\users\\harsh\\projects\\avoiding_road_accidents\\.venv\\lib\\site-packages (from jinja2->torch>=1.8.0->ultralytics) (3.0.2)\n"
     ]
    },
    {
     "name": "stderr",
     "output_type": "stream",
     "text": [
      "\n",
      "[notice] A new release of pip is available: 23.2.1 -> 25.0.1\n",
      "[notice] To update, run: python.exe -m pip install --upgrade pip\n"
     ]
    }
   ],
   "source": [
    "!pip install opencv-python\n",
    "!pip install ultralytics"
   ]
  },
  {
   "cell_type": "code",
   "execution_count": 6,
   "id": "a72c7422c9297302",
   "metadata": {
    "ExecuteTime": {
     "end_time": "2025-02-23T16:11:38.663929Z",
     "start_time": "2025-02-23T16:11:38.647964Z"
    }
   },
   "outputs": [],
   "source": [
    "# Setup logger\n",
    "import logging\n",
    "logger = logging.getLogger()\n",
    "logger.setLevel(logging.DEBUG)"
   ]
  },
  {
   "cell_type": "code",
   "execution_count": 7,
   "id": "4a5cbd3c90718f1c",
   "metadata": {
    "ExecuteTime": {
     "end_time": "2025-02-23T16:11:49.853760Z",
     "start_time": "2025-02-23T16:11:49.670616Z"
    }
   },
   "outputs": [],
   "source": [
    "import os\n",
    "from pathlib import Path\n",
    "from glob import glob\n",
    "import shutil\n",
    "import cv2\n",
    "import numpy as np"
   ]
  },
  {
   "cell_type": "code",
   "execution_count": 8,
   "id": "3cf74c6cd46f9631",
   "metadata": {
    "ExecuteTime": {
     "end_time": "2025-02-23T16:11:51.911892Z",
     "start_time": "2025-02-23T16:11:51.905492Z"
    }
   },
   "outputs": [],
   "source": [
    "os.makedirs(\"data/yolo_dataset/images/train\", exist_ok=True)\n",
    "os.makedirs(\"data/yolo_dataset/images/val\", exist_ok=True)\n",
    "os.makedirs(\"data/yolo_dataset/labels/train\", exist_ok=True)\n",
    "os.makedirs(\"data/yolo_dataset/labels/val\", exist_ok=True)"
   ]
  },
  {
   "cell_type": "code",
   "execution_count": 9,
   "id": "782aad68ff6d32ec",
   "metadata": {
    "ExecuteTime": {
     "end_time": "2025-02-23T16:11:54.068278Z",
     "start_time": "2025-02-23T16:11:54.063928Z"
    }
   },
   "outputs": [],
   "source": [
    "# Define class mapping\n",
    "class_mapping = {\n",
    "    'OOO': 0,  # Normal\n",
    "    'BOO': 1,  # Braking\n",
    "    'OLO': 2,  # Left signal\n",
    "    'BLO': 3,  # Brake + Left signal\n",
    "    'OOR': 4,  # Right signal\n",
    "    'BOR': 5,  # Brake + Right signal\n",
    "    'OLR': 6,  # Hazard lights\n",
    "    'BLR': 7   # Brake + Hazard lights\n",
    "}\n"
   ]
  },
  {
   "cell_type": "code",
   "execution_count": 10,
   "id": "e76cbcef",
   "metadata": {
    "ExecuteTime": {
     "end_time": "2025-02-23T16:11:57.943405Z",
     "start_time": "2025-02-23T16:11:57.932354Z"
    }
   },
   "outputs": [],
   "source": [
    "def detect_taillights(image_path):\n",
    "    # Read the image\n",
    "    image = cv2.imread(str(image_path))\n",
    "    if image is None:\n",
    "        return None, None\n",
    "        \n",
    "    # Get image dimensions for calculating relative values later\n",
    "    height, width = image.shape[:2]\n",
    "    \n",
    "    # Convert to HSV color space\n",
    "    hsv = cv2.cvtColor(image, cv2.COLOR_BGR2HSV)\n",
    "    \n",
    "    # Define red color range for taillights\n",
    "    lower_red1 = np.array([0, 100, 100])\n",
    "    upper_red1 = np.array([10, 255, 255])\n",
    "    lower_red2 = np.array([160, 100, 100])\n",
    "    upper_red2 = np.array([180, 255, 255])\n",
    "    \n",
    "    # Create masks for red regions\n",
    "    mask1 = cv2.inRange(hsv, lower_red1, upper_red1)\n",
    "    mask2 = cv2.inRange(hsv, lower_red2, upper_red2)\n",
    "    mask = cv2.bitwise_or(mask1, mask2)\n",
    "    \n",
    "    # Apply morphological operations\n",
    "    kernel = np.ones((5,5), np.uint8)\n",
    "    mask = cv2.morphologyEx(mask, cv2.MORPH_CLOSE, kernel)\n",
    "    mask = cv2.morphologyEx(mask, cv2.MORPH_OPEN, kernel)\n",
    "    \n",
    "    # Find contours\n",
    "    contours, _ = cv2.findContours(mask, cv2.RETR_EXTERNAL, cv2.CHAIN_APPROX_SIMPLE)\n",
    "    \n",
    "    # Filter contours based on area\n",
    "    min_area = 50\n",
    "    valid_contours = [cnt for cnt in contours if cv2.contourArea(cnt) > min_area]\n",
    "    \n",
    "    if valid_contours:\n",
    "        all_x = []\n",
    "        all_y = []\n",
    "        for contour in valid_contours:\n",
    "            for point in contour:\n",
    "                all_x.append(point[0][0])\n",
    "                all_y.append(point[0][1])\n",
    "        \n",
    "        # Calculate absolute coordinates with padding\n",
    "        x_min = max(min(all_x) - 10, 0)\n",
    "        x_max = min(max(all_x) + 10, width)\n",
    "        y_min = max(min(all_y) - 5, 0)\n",
    "        y_max = min(max(all_y) + 5, height)\n",
    "        \n",
    "        # Convert to YOLO format (x_center, y_center, width, height) - all relative\n",
    "        x_center = (x_min + x_max) / (2 * width)  # relative center x\n",
    "        y_center = (y_min + y_max) / (2 * height)  # relative center y\n",
    "        rel_width = (x_max - x_min) / width  # relative width\n",
    "        rel_height = (y_max - y_min) / height  # relative height\n",
    "        \n",
    "        return True, (x_center, y_center, rel_width, rel_height)\n",
    "    \n",
    "    return False, None"
   ]
  },
  {
   "cell_type": "code",
   "execution_count": 12,
   "id": "94acf1944bb870d4",
   "metadata": {
    "ExecuteTime": {
     "end_time": "2025-02-23T16:12:02.210360Z",
     "start_time": "2025-02-23T16:12:02.201097Z"
    }
   },
   "outputs": [],
   "source": [
    "def process_images(footage_path, split='train'):\n",
    "    footage_path = Path(footage_path)\n",
    "    frame_paths = list(footage_path.rglob('light_mask/frame*.png'))\n",
    "    logger.info(f\"Found {len(frame_paths)} frames\")\n",
    "\n",
    "    # Create directories if they don't exist\n",
    "    Path(f\"data/yolo_dataset/images/{split}\").mkdir(parents=True, exist_ok=True)\n",
    "    Path(f\"data/yolo_dataset/labels/{split}\").mkdir(parents=True, exist_ok=True)\n",
    "    \n",
    "    for frame_path in frame_paths:\n",
    "        try:\n",
    "            # Debug print the full frame path\n",
    "            # logger.info(f\"Processing frame: {frame_path}\")\n",
    "            # logger.info(f\"Frame path exists: {frame_path.exists()}\")\n",
    "\n",
    "            # Extract class from path\n",
    "            frame_path_str = str(frame_path)\n",
    "            for class_name in class_mapping.keys():\n",
    "                if f\"_{class_name}_\" in frame_path_str:\n",
    "                    break\n",
    "            else:\n",
    "                logger.error(f\"Could not find class name in path: {frame_path}\")\n",
    "                continue\n",
    "\n",
    "            # Generate filenames\n",
    "            filename = frame_path.name\n",
    "            dest_path = Path(f\"data/yolo_dataset/images/{split}/{filename}\")\n",
    "            label_path = Path(f\"data/yolo_dataset/labels/{split}/{filename}\").with_suffix('.txt')\n",
    "\n",
    "            # Debug print the destination path\n",
    "            # logger.info(f\"Destination path: {dest_path}\")\n",
    "\n",
    "            # Verify source file exists before copying\n",
    "            if not frame_path.exists():\n",
    "                logger.error(f\"Source file does not exist: {frame_path}\")\n",
    "                continue\n",
    "\n",
    "            # Create parent directories if they don't exist\n",
    "            dest_path.parent.mkdir(parents=True, exist_ok=True)\n",
    "\n",
    "            # Copy image\n",
    "            try:\n",
    "                shutil.copy2(str(frame_path), str(dest_path))\n",
    "            except Exception as copy_error:\n",
    "                logger.error(f\"Error copying file: {str(copy_error)}\")\n",
    "                logger.error(f\"From: {frame_path}\")\n",
    "                logger.error(f\"To: {dest_path}\")\n",
    "                continue\n",
    "\n",
    "            # Detect taillights and get YOLO format coordinates\n",
    "            success, bbox = detect_taillights(frame_path)\n",
    "\n",
    "            # Create label file with detected coordinates or fallback values\n",
    "            with open(label_path, 'w') as f:\n",
    "                if success and bbox:\n",
    "                    x_center, y_center, rel_width, rel_height = bbox\n",
    "                    f.write(f'{class_mapping[class_name]} {x_center:.6f} {y_center:.6f} {rel_width:.6f} {rel_height:.6f}\\n')\n",
    "                else:\n",
    "                    # Fallback to default values if detection fails\n",
    "                    # logger.warning(f\"Detection failed for {filename}, using default values\")\n",
    "                    f.write(f'{class_mapping[class_name]} 0.5 0.8 0.3 0.2\\n')\n",
    "\n",
    "            # logger.info(f\"Successfully processed: {filename}\")\n",
    "\n",
    "        except Exception as e:\n",
    "            logger.error(f\"Error processing {frame_path}: {str(e)}\")"
   ]
  },
  {
   "cell_type": "code",
   "execution_count": 13,
   "id": "8221f176c6c2aa14",
   "metadata": {
    "ExecuteTime": {
     "end_time": "2025-02-23T16:14:17.304982Z",
     "start_time": "2025-02-23T16:12:04.853133Z"
    }
   },
   "outputs": [],
   "source": [
    "base_path = Path(\"data/rear_signal_dataset\")\n",
    "\n",
    "with open('data/rear_signal_dataset/Easy.txt', 'r') as f:\n",
    "    easy_sequences = f.read().splitlines()\n",
    "logger.info(f\"Found {len(easy_sequences)} easy sequences\")\n",
    "\n",
    "# Split into train and validation\n",
    "train_sequences = easy_sequences[:int(len(easy_sequences)*0.8)]\n",
    "val_sequences = easy_sequences[int(len(easy_sequences)*0.8):]\n",
    "\n",
    "logger.debug(f\"Processing {len(train_sequences)} train sequences...\")\n",
    "for seq in train_sequences:\n",
    "    # Reconstruct the correct path\n",
    "    # Extract the base parts of the sequence name\n",
    "    base_parts = seq.split('_')[:4]  # Get the first 4 parts\n",
    "    base_name = '_'.join(base_parts)\n",
    "    class_name = seq.split('_')[-2]  # Get class name (BOO, OOO, etc)\n",
    "    sequence_num = seq.split('_')[-1]  # Get sequence number\n",
    "\n",
    "    # Construct the full path\n",
    "    seq_path = base_path.joinpath(base_name, f\"{base_name}_{class_name}\", f\"{base_name}_{class_name}_{sequence_num}\")\n",
    "    # logger.debug(f\"Looking for sequence at: {seq_path}\")\n",
    "\n",
    "    if os.path.exists(seq_path):\n",
    "        process_images(seq_path, 'train')\n",
    "    else:\n",
    "        if base_parts[0].startswith('test'):\n",
    "            complete_split = seq.split('_')\n",
    "            if complete_split[2].startswith('idx'):\n",
    "                base_parts = seq.split('_')[:3]\n",
    "            else:\n",
    "                base_parts = seq.split('_')[:2]\n",
    "            base_name = '_'.join(base_parts)\n",
    "            class_name = seq.split('_')[-2]\n",
    "            sequence_num = seq.split('_')[-1]\n",
    "\n",
    "            # construct full path for test\n",
    "            seq_path = base_path.joinpath(base_name, f\"{base_name}_{class_name}\", f\"{base_name}_{class_name}_{sequence_num}\")\n",
    "            # logger.debug(f\"Looking for sequence at: {seq_path}\")\n",
    "\n",
    "            if os.path.exists(seq_path):\n",
    "                process_images(seq_path, 'train')\n",
    "            else:\n",
    "                logger.error(f\"Sequence path does not exist: {seq_path}\")\n",
    "\n",
    "\n",
    "logger.debug(f\"Processing {len(val_sequences)} validation sequences...\")\n",
    "for seq in val_sequences:\n",
    "    # logger.debug(f\"Processing validation sequence: {seq}\")\n",
    "    base_parts = seq.split('_')[:4]\n",
    "    base_name = '_'.join(base_parts)\n",
    "    class_name = seq.split('_')[-2]\n",
    "    sequence_num = seq.split('_')[-1]\n",
    "\n",
    "    seq_path = base_path.joinpath(base_name, f\"{base_name}_{class_name}\", f\"{base_name}_{class_name}_{sequence_num}\")\n",
    "\n",
    "    if os.path.exists(seq_path):\n",
    "        process_images(seq_path, 'val')\n",
    "    else:\n",
    "        if base_parts[0].startswith('test'):\n",
    "            complete_split = seq.split('_')\n",
    "            if complete_split[2].startswith('idx'):\n",
    "                base_parts = seq.split('_')[:3]\n",
    "            else:\n",
    "                base_parts = seq.split('_')[:2]\n",
    "            base_name = '_'.join(base_parts)\n",
    "            class_name = seq.split('_')[-2]\n",
    "            sequence_num = seq.split('_')[-1]\n",
    "\n",
    "            # Construct full path for test\n",
    "            seq_path = base_path.joinpath(base_name, f\"{base_name}_{class_name}\", f\"{base_name}_{class_name}_{sequence_num}\")\n",
    "            # logger.debug(f\"Looking for sequence at: {seq_path}\")\n",
    "\n",
    "            if os.path.exists(seq_path):\n",
    "                process_images(seq_path, 'val')\n",
    "            else:\n",
    "                logger.error(f\"Sequence path does not exist: {seq_path}\")\n",
    "\n",
    "\n",
    "# Print final statistics\n",
    "train_images = len(glob('data/yolo_dataset/images/train/*.png'))\n",
    "val_images = len(glob('data/yolo_dataset/images/val/*.png'))\n",
    "\n",
    "logger.info(f\"Final Statistics:\")\n",
    "logger.info(f\"Training images: {train_images}\")\n",
    "logger.info(f\"Validation images: {val_images}\") \n"
   ]
  },
  {
   "cell_type": "markdown",
   "id": "4760c1255c931a8f",
   "metadata": {},
   "source": [
    "still have 3406 out of 15432 frames having default boundary box values"
   ]
  },
  {
   "cell_type": "code",
   "execution_count": 14,
   "id": "4a2384102c81a31e",
   "metadata": {
    "ExecuteTime": {
     "end_time": "2025-02-23T16:14:25.265346Z",
     "start_time": "2025-02-23T16:14:25.258576Z"
    }
   },
   "outputs": [],
   "source": [
    "# Create yaml file first\n",
    "yaml_content = f\"\"\"\n",
    "path: {os.path.abspath('data/yolo_dataset')}  # dataset root dir\n",
    "train: images/train  # train images (relative to 'path')\n",
    "val: images/val  # val images (relative to 'path')\n",
    "\n",
    "# Classes\n",
    "nc: {len(class_mapping)}  # number of classes\n",
    "names: {list(class_mapping.keys())}  # class names\n",
    "\"\"\"\n",
    "\n",
    "with open('dataset.yaml', 'w') as f:\n",
    "    f.write(yaml_content)"
   ]
  },
  {
   "cell_type": "code",
   "execution_count": 15,
   "id": "f99c1d0ac6d491",
   "metadata": {
    "ExecuteTime": {
     "end_time": "2025-02-23T16:14:33.007084Z",
     "start_time": "2025-02-23T16:14:27.653544Z"
    }
   },
   "outputs": [
    {
     "name": "stdout",
     "output_type": "stream",
     "text": [
      "Found existing installation: ultralytics 8.0.196\n",
      "Uninstalling ultralytics-8.0.196:\n",
      "  Successfully uninstalled ultralytics-8.0.196\n",
      "Requirement already satisfied: torch in c:\\users\\harsh\\projects\\avoiding_road_accidents\\.venv\\lib\\site-packages (2.6.0+cu118)\n",
      "Requirement already satisfied: torchvision in c:\\users\\harsh\\projects\\avoiding_road_accidents\\.venv\\lib\\site-packages (0.21.0)\n",
      "Collecting ultralytics==8.0.196\n",
      "  Obtaining dependency information for ultralytics==8.0.196 from https://files.pythonhosted.org/packages/a8/97/d6d2592ba629ab41e18aaba14a4d75a5b56c40398a1c0b9e5979317798d0/ultralytics-8.0.196-py3-none-any.whl.metadata\n",
      "  Using cached ultralytics-8.0.196-py3-none-any.whl.metadata (31 kB)\n",
      "Requirement already satisfied: matplotlib>=3.3.0 in c:\\users\\harsh\\projects\\avoiding_road_accidents\\.venv\\lib\\site-packages (from ultralytics==8.0.196) (3.10.0)\n",
      "Requirement already satisfied: numpy>=1.22.2 in c:\\users\\harsh\\projects\\avoiding_road_accidents\\.venv\\lib\\site-packages (from ultralytics==8.0.196) (2.1.1)\n",
      "Requirement already satisfied: opencv-python>=4.6.0 in c:\\users\\harsh\\projects\\avoiding_road_accidents\\.venv\\lib\\site-packages (from ultralytics==8.0.196) (4.11.0.86)\n",
      "Requirement already satisfied: pillow>=7.1.2 in c:\\users\\harsh\\projects\\avoiding_road_accidents\\.venv\\lib\\site-packages (from ultralytics==8.0.196) (11.1.0)\n",
      "Requirement already satisfied: pyyaml>=5.3.1 in c:\\users\\harsh\\projects\\avoiding_road_accidents\\.venv\\lib\\site-packages (from ultralytics==8.0.196) (6.0.2)\n",
      "Requirement already satisfied: requests>=2.23.0 in c:\\users\\harsh\\projects\\avoiding_road_accidents\\.venv\\lib\\site-packages (from ultralytics==8.0.196) (2.32.3)\n",
      "Requirement already satisfied: scipy>=1.4.1 in c:\\users\\harsh\\projects\\avoiding_road_accidents\\.venv\\lib\\site-packages (from ultralytics==8.0.196) (1.15.2)\n",
      "Requirement already satisfied: tqdm>=4.64.0 in c:\\users\\harsh\\projects\\avoiding_road_accidents\\.venv\\lib\\site-packages (from ultralytics==8.0.196) (4.67.1)\n",
      "Requirement already satisfied: pandas>=1.1.4 in c:\\users\\harsh\\projects\\avoiding_road_accidents\\.venv\\lib\\site-packages (from ultralytics==8.0.196) (2.2.3)\n",
      "Requirement already satisfied: seaborn>=0.11.0 in c:\\users\\harsh\\projects\\avoiding_road_accidents\\.venv\\lib\\site-packages (from ultralytics==8.0.196) (0.13.2)\n",
      "Requirement already satisfied: psutil in c:\\users\\harsh\\projects\\avoiding_road_accidents\\.venv\\lib\\site-packages (from ultralytics==8.0.196) (7.0.0)\n",
      "Requirement already satisfied: py-cpuinfo in c:\\users\\harsh\\projects\\avoiding_road_accidents\\.venv\\lib\\site-packages (from ultralytics==8.0.196) (9.0.0)\n",
      "Requirement already satisfied: thop>=0.1.1 in c:\\users\\harsh\\projects\\avoiding_road_accidents\\.venv\\lib\\site-packages (from ultralytics==8.0.196) (0.1.1.post2209072238)\n",
      "Requirement already satisfied: filelock in c:\\users\\harsh\\projects\\avoiding_road_accidents\\.venv\\lib\\site-packages (from torch) (3.17.0)\n",
      "Requirement already satisfied: typing-extensions>=4.10.0 in c:\\users\\harsh\\projects\\avoiding_road_accidents\\.venv\\lib\\site-packages (from torch) (4.12.2)\n",
      "Requirement already satisfied: networkx in c:\\users\\harsh\\projects\\avoiding_road_accidents\\.venv\\lib\\site-packages (from torch) (3.4.2)\n",
      "Requirement already satisfied: jinja2 in c:\\users\\harsh\\projects\\avoiding_road_accidents\\.venv\\lib\\site-packages (from torch) (3.1.5)\n",
      "Requirement already satisfied: fsspec in c:\\users\\harsh\\projects\\avoiding_road_accidents\\.venv\\lib\\site-packages (from torch) (2025.2.0)\n",
      "Requirement already satisfied: setuptools in c:\\users\\harsh\\projects\\avoiding_road_accidents\\.venv\\lib\\site-packages (from torch) (75.8.0)\n",
      "Requirement already satisfied: sympy==1.13.1 in c:\\users\\harsh\\projects\\avoiding_road_accidents\\.venv\\lib\\site-packages (from torch) (1.13.1)\n",
      "Requirement already satisfied: mpmath<1.4,>=1.1.0 in c:\\users\\harsh\\projects\\avoiding_road_accidents\\.venv\\lib\\site-packages (from sympy==1.13.1->torch) (1.3.0)\n",
      "Requirement already satisfied: contourpy>=1.0.1 in c:\\users\\harsh\\projects\\avoiding_road_accidents\\.venv\\lib\\site-packages (from matplotlib>=3.3.0->ultralytics==8.0.196) (1.3.1)\n",
      "Requirement already satisfied: cycler>=0.10 in c:\\users\\harsh\\projects\\avoiding_road_accidents\\.venv\\lib\\site-packages (from matplotlib>=3.3.0->ultralytics==8.0.196) (0.12.1)\n",
      "Requirement already satisfied: fonttools>=4.22.0 in c:\\users\\harsh\\projects\\avoiding_road_accidents\\.venv\\lib\\site-packages (from matplotlib>=3.3.0->ultralytics==8.0.196) (4.56.0)\n",
      "Requirement already satisfied: kiwisolver>=1.3.1 in c:\\users\\harsh\\projects\\avoiding_road_accidents\\.venv\\lib\\site-packages (from matplotlib>=3.3.0->ultralytics==8.0.196) (1.4.8)\n",
      "Requirement already satisfied: packaging>=20.0 in c:\\users\\harsh\\projects\\avoiding_road_accidents\\.venv\\lib\\site-packages (from matplotlib>=3.3.0->ultralytics==8.0.196) (24.2)\n",
      "Requirement already satisfied: pyparsing>=2.3.1 in c:\\users\\harsh\\projects\\avoiding_road_accidents\\.venv\\lib\\site-packages (from matplotlib>=3.3.0->ultralytics==8.0.196) (3.2.1)\n",
      "Requirement already satisfied: python-dateutil>=2.7 in c:\\users\\harsh\\projects\\avoiding_road_accidents\\.venv\\lib\\site-packages (from matplotlib>=3.3.0->ultralytics==8.0.196) (2.9.0.post0)\n",
      "Requirement already satisfied: pytz>=2020.1 in c:\\users\\harsh\\projects\\avoiding_road_accidents\\.venv\\lib\\site-packages (from pandas>=1.1.4->ultralytics==8.0.196) (2025.1)\n",
      "Requirement already satisfied: tzdata>=2022.7 in c:\\users\\harsh\\projects\\avoiding_road_accidents\\.venv\\lib\\site-packages (from pandas>=1.1.4->ultralytics==8.0.196) (2025.1)\n",
      "Requirement already satisfied: charset-normalizer<4,>=2 in c:\\users\\harsh\\projects\\avoiding_road_accidents\\.venv\\lib\\site-packages (from requests>=2.23.0->ultralytics==8.0.196) (3.4.1)\n",
      "Requirement already satisfied: idna<4,>=2.5 in c:\\users\\harsh\\projects\\avoiding_road_accidents\\.venv\\lib\\site-packages (from requests>=2.23.0->ultralytics==8.0.196) (3.10)\n",
      "Requirement already satisfied: urllib3<3,>=1.21.1 in c:\\users\\harsh\\projects\\avoiding_road_accidents\\.venv\\lib\\site-packages (from requests>=2.23.0->ultralytics==8.0.196) (2.3.0)\n",
      "Requirement already satisfied: certifi>=2017.4.17 in c:\\users\\harsh\\projects\\avoiding_road_accidents\\.venv\\lib\\site-packages (from requests>=2.23.0->ultralytics==8.0.196) (2025.1.31)\n",
      "Requirement already satisfied: colorama in c:\\users\\harsh\\projects\\avoiding_road_accidents\\.venv\\lib\\site-packages (from tqdm>=4.64.0->ultralytics==8.0.196) (0.4.6)\n",
      "Requirement already satisfied: MarkupSafe>=2.0 in c:\\users\\harsh\\projects\\avoiding_road_accidents\\.venv\\lib\\site-packages (from jinja2->torch) (3.0.2)\n",
      "Requirement already satisfied: six>=1.5 in c:\\users\\harsh\\projects\\avoiding_road_accidents\\.venv\\lib\\site-packages (from python-dateutil>=2.7->matplotlib>=3.3.0->ultralytics==8.0.196) (1.17.0)\n",
      "Using cached ultralytics-8.0.196-py3-none-any.whl (631 kB)\n",
      "Installing collected packages: ultralytics\n",
      "Successfully installed ultralytics-8.0.196\n"
     ]
    },
    {
     "name": "stderr",
     "output_type": "stream",
     "text": [
      "\n",
      "[notice] A new release of pip is available: 23.2.1 -> 25.0.1\n",
      "[notice] To update, run: python.exe -m pip install --upgrade pip\n"
     ]
    }
   ],
   "source": [
    "!pip uninstall -y ultralytics\n",
    "!pip install torch torchvision ultralytics==8.0.196\n"
   ]
  },
  {
   "cell_type": "code",
   "execution_count": 24,
   "id": "7e30eb93b379aaa7",
   "metadata": {
    "ExecuteTime": {
     "end_time": "2025-02-23T16:14:44.956054Z",
     "start_time": "2025-02-23T16:14:38.178289Z"
    }
   },
   "outputs": [
    {
     "name": "stderr",
     "output_type": "stream",
     "text": [
      "Traceback (most recent call last):\n",
      "  File \"<frozen runpy>\", line 198, in _run_module_as_main\n",
      "  File \"<frozen runpy>\", line 88, in _run_code\n",
      "  File \"c:\\Users\\harsh\\projects\\avoiding_road_accidents\\.venv\\Scripts\\yolo.exe\\__main__.py\", line 7, in <module>\n",
      "    sys.exit(entrypoint())\n",
      "             ~~~~~~~~~~^^\n",
      "  File \"C:\\Users\\harsh\\projects\\avoiding_road_accidents\\.venv\\Lib\\site-packages\\ultralytics\\cfg\\__init__.py\", line 420, in entrypoint\n",
      "    model = YOLO(model, task=task)\n",
      "  File \"C:\\Users\\harsh\\projects\\avoiding_road_accidents\\.venv\\Lib\\site-packages\\ultralytics\\engine\\model.py\", line 97, in __init__\n",
      "    self._load(model, task)\n",
      "    ~~~~~~~~~~^^^^^^^^^^^^^\n",
      "  File \"C:\\Users\\harsh\\projects\\avoiding_road_accidents\\.venv\\Lib\\site-packages\\ultralytics\\engine\\model.py\", line 149, in _load\n",
      "    self.model, self.ckpt = attempt_load_one_weight(weights)\n",
      "                            ~~~~~~~~~~~~~~~~~~~~~~~^^^^^^^^^\n",
      "  File \"C:\\Users\\harsh\\projects\\avoiding_road_accidents\\.venv\\Lib\\site-packages\\ultralytics\\nn\\tasks.py\", line 628, in attempt_load_one_weight\n",
      "    ckpt, weight = torch_safe_load(weight)  # load ckpt\n",
      "                   ~~~~~~~~~~~~~~~^^^^^^^^\n",
      "  File \"C:\\Users\\harsh\\projects\\avoiding_road_accidents\\.venv\\Lib\\site-packages\\ultralytics\\nn\\tasks.py\", line 567, in torch_safe_load\n",
      "    return torch.load(file, map_location='cpu'), file  # load\n",
      "           ~~~~~~~~~~^^^^^^^^^^^^^^^^^^^^^^^^^^\n",
      "  File \"C:\\Users\\harsh\\projects\\avoiding_road_accidents\\.venv\\Lib\\site-packages\\torch\\serialization.py\", line 1470, in load\n",
      "    raise pickle.UnpicklingError(_get_wo_message(str(e))) from None\n",
      "_pickle.UnpicklingError: Weights only load failed. This file can still be loaded, to do so you have two options, \u001b[1mdo those steps only if you trust the source of the checkpoint\u001b[0m. \n",
      "\t(1) In PyTorch 2.6, we changed the default value of the `weights_only` argument in `torch.load` from `False` to `True`. Re-running `torch.load` with `weights_only` set to `False` will likely succeed, but it can result in arbitrary code execution. Do it only if you got the file from a trusted source.\n",
      "\t(2) Alternatively, to load with `weights_only=True` please check the recommended steps in the following error message.\n",
      "\tWeightsUnpickler error: Unsupported global: GLOBAL ultralytics.nn.tasks.DetectionModel was not an allowed global by default. Please use `torch.serialization.add_safe_globals([DetectionModel])` or the `torch.serialization.safe_globals([DetectionModel])` context manager to allowlist this global if you trust this class/function.\n",
      "\n",
      "Check the documentation of torch.load to learn more about types accepted by default with weights_only https://pytorch.org/docs/stable/generated/torch.load.html.\n"
     ]
    }
   ],
   "source": [
    "!yolo task=detect mode=train model=yolov8n.pt data=dataset.yaml epochs=5 imgsz=640 batch=16 device=cuda"
   ]
  },
  {
   "cell_type": "code",
   "execution_count": 25,
   "id": "21c0e8cd3039b668",
   "metadata": {},
   "outputs": [
    {
     "name": "stdout",
     "output_type": "stream",
     "text": [
      "Found existing installation: ultralytics 8.0.196\n",
      "Uninstalling ultralytics-8.0.196:\n",
      "  Successfully uninstalled ultralytics-8.0.196\n",
      "Found existing installation: torch 2.6.0\n",
      "Uninstalling torch-2.6.0:\n",
      "  Successfully uninstalled torch-2.6.0\n",
      "Found existing installation: torchvision 0.21.0\n",
      "Uninstalling torchvision-0.21.0:\n",
      "  Successfully uninstalled torchvision-0.21.0\n"
     ]
    },
    {
     "name": "stderr",
     "output_type": "stream",
     "text": [
      "ERROR: Exception:\n",
      "Traceback (most recent call last):\n",
      "  File \"C:\\Users\\harsh\\projects\\avoiding_road_accidents\\.venv\\Lib\\site-packages\\pip\\_internal\\cli\\base_command.py\", line 180, in exc_logging_wrapper\n",
      "    status = run_func(*args)\n",
      "  File \"C:\\Users\\harsh\\projects\\avoiding_road_accidents\\.venv\\Lib\\site-packages\\pip\\_internal\\commands\\uninstall.py\", line 110, in run\n",
      "    uninstall_pathset.commit()\n",
      "    ~~~~~~~~~~~~~~~~~~~~~~~~^^\n",
      "  File \"C:\\Users\\harsh\\projects\\avoiding_road_accidents\\.venv\\Lib\\site-packages\\pip\\_internal\\req\\req_uninstall.py\", line 432, in commit\n",
      "    self._moved_paths.commit()\n",
      "    ~~~~~~~~~~~~~~~~~~~~~~~~^^\n",
      "  File \"C:\\Users\\harsh\\projects\\avoiding_road_accidents\\.venv\\Lib\\site-packages\\pip\\_internal\\req\\req_uninstall.py\", line 278, in commit\n",
      "    save_dir.cleanup()\n",
      "    ~~~~~~~~~~~~~~~~^^\n",
      "  File \"C:\\Users\\harsh\\projects\\avoiding_road_accidents\\.venv\\Lib\\site-packages\\pip\\_internal\\utils\\temp_dir.py\", line 173, in cleanup\n",
      "    rmtree(self._path)\n",
      "    ~~~~~~^^^^^^^^^^^^\n",
      "  File \"C:\\Users\\harsh\\projects\\avoiding_road_accidents\\.venv\\Lib\\site-packages\\pip\\_vendor\\tenacity\\__init__.py\", line 291, in wrapped_f\n",
      "    return self(f, *args, **kw)\n",
      "  File \"C:\\Users\\harsh\\projects\\avoiding_road_accidents\\.venv\\Lib\\site-packages\\pip\\_vendor\\tenacity\\__init__.py\", line 381, in __call__\n",
      "    do = self.iter(retry_state=retry_state)\n",
      "  File \"C:\\Users\\harsh\\projects\\avoiding_road_accidents\\.venv\\Lib\\site-packages\\pip\\_vendor\\tenacity\\__init__.py\", line 327, in iter\n",
      "    raise retry_exc.reraise()\n",
      "          ~~~~~~~~~~~~~~~~~^^\n",
      "  File \"C:\\Users\\harsh\\projects\\avoiding_road_accidents\\.venv\\Lib\\site-packages\\pip\\_vendor\\tenacity\\__init__.py\", line 160, in reraise\n",
      "    raise self.last_attempt.result()\n",
      "          ~~~~~~~~~~~~~~~~~~~~~~~~^^\n",
      "  File \"C:\\Users\\harsh\\AppData\\Local\\Programs\\Python\\Python313\\Lib\\concurrent\\futures\\_base.py\", line 449, in result\n",
      "    return self.__get_result()\n",
      "           ~~~~~~~~~~~~~~~~~^^\n",
      "  File \"C:\\Users\\harsh\\AppData\\Local\\Programs\\Python\\Python313\\Lib\\concurrent\\futures\\_base.py\", line 401, in __get_result\n",
      "    raise self._exception\n",
      "  File \"C:\\Users\\harsh\\projects\\avoiding_road_accidents\\.venv\\Lib\\site-packages\\pip\\_vendor\\tenacity\\__init__.py\", line 384, in __call__\n",
      "    result = fn(*args, **kwargs)\n",
      "  File \"C:\\Users\\harsh\\projects\\avoiding_road_accidents\\.venv\\Lib\\site-packages\\pip\\_internal\\utils\\misc.py\", line 128, in rmtree\n",
      "    shutil.rmtree(dir, ignore_errors=ignore_errors, onexc=rmtree_errorhandler)\n",
      "    ~~~~~~~~~~~~~^^^^^^^^^^^^^^^^^^^^^^^^^^^^^^^^^^^^^^^^^^^^^^^^^^^^^^^^^^^^^\n",
      "  File \"C:\\Users\\harsh\\AppData\\Local\\Programs\\Python\\Python313\\Lib\\shutil.py\", line 790, in rmtree\n",
      "    return _rmtree_unsafe(path, onexc)\n",
      "  File \"C:\\Users\\harsh\\AppData\\Local\\Programs\\Python\\Python313\\Lib\\shutil.py\", line 629, in _rmtree_unsafe\n",
      "    onexc(os.unlink, fullname, err)\n",
      "    ~~~~~^^^^^^^^^^^^^^^^^^^^^^^^^^\n",
      "  File \"C:\\Users\\harsh\\AppData\\Local\\Programs\\Python\\Python313\\Lib\\shutil.py\", line 625, in _rmtree_unsafe\n",
      "    os.unlink(fullname)\n",
      "    ~~~~~~~~~^^^^^^^^^^\n",
      "PermissionError: [WinError 5] Access is denied: 'C:\\\\Users\\\\harsh\\\\projects\\\\avoiding_road_accidents\\\\.venv\\\\Lib\\\\site-packages\\\\~orchvision\\\\image.pyd'\n"
     ]
    }
   ],
   "source": [
    "!pip uninstall -y ultralytics torch torchvision"
   ]
  },
  {
   "cell_type": "code",
   "execution_count": null,
   "id": "03d1b11b",
   "metadata": {},
   "outputs": [],
   "source": []
  }
 ],
 "metadata": {
  "kernelspec": {
   "display_name": ".venv",
   "language": "python",
   "name": "python3"
  },
  "language_info": {
   "codemirror_mode": {
    "name": "ipython",
    "version": 3
   },
   "file_extension": ".py",
   "mimetype": "text/x-python",
   "name": "python",
   "nbconvert_exporter": "python",
   "pygments_lexer": "ipython3",
   "version": "3.13.1"
  }
 },
 "nbformat": 4,
 "nbformat_minor": 5
}
