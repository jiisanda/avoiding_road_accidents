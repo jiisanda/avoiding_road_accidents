{
 "cells": [
  {
   "cell_type": "markdown",
   "id": "8a77807f92f26ee",
   "metadata": {},
   "source": [
    "# Avoiding Road Accidents\n",
    "\n",
    "## Dataset: \n",
    "\n",
    "http://vllab1.ucmerced.edu/~hhsu22/rear_signal/rear_signal#\n",
    "\n",
    "### Dataset statistics\n",
    "\n",
    "Total sequences: 649\n",
    "Total frames: 63637\n",
    "\n",
    "*Number of sequences in each class*:\n",
    "\n",
    "OOO: 188 BOO: 211 OLO: 78 BLO: 63\n",
    "\n",
    "OOR:  58 BOR:  33 OLR:  9 BLR:  9\n",
    "\n",
    "*Number of frames in each class:*:\n",
    "\n",
    "\n",
    "OOO: 21867 BOO: 17874 OLO: 6271 BLO: 6380\n",
    "\n",
    "OOR:  4728 BOR:  3527 OLR: 1600 BLR: 1390"
   ]
  },
  {
   "cell_type": "code",
   "execution_count": 68,
   "id": "fbc121e30a2defb3",
   "metadata": {
    "ExecuteTime": {
     "end_time": "2024-12-05T08:28:50.952833Z",
     "start_time": "2024-12-05T08:28:50.933766Z"
    }
   },
   "outputs": [
    {
     "name": "stdout",
     "output_type": "stream",
     "text": [
      "CUDA available: True\n",
      "Current device: NVIDIA GeForce RTX 3050 Laptop GPU\n"
     ]
    }
   ],
   "source": [
    "import torch\n",
    "print(f\"CUDA available: {torch.cuda.is_available()}\")\n",
    "print(f\"Current device: {torch.cuda.get_device_name(0)}\")"
   ]
  },
  {
   "cell_type": "code",
   "execution_count": 64,
   "id": "ef3f115278104098",
   "metadata": {
    "ExecuteTime": {
     "end_time": "2024-12-05T08:22:48.182547Z",
     "start_time": "2024-12-05T08:22:34.423468Z"
    }
   },
   "outputs": [
    {
     "name": "stdout",
     "output_type": "stream",
     "text": [
      "Requirement already satisfied: opencv-python in c:\\users\\harsh\\miniconda3\\lib\\site-packages (4.10.0.84)\n",
      "Requirement already satisfied: numpy>=1.21.2 in c:\\users\\harsh\\miniconda3\\lib\\site-packages (from opencv-python) (2.1.3)\n",
      "Collecting ultralytics\n",
      "  Downloading ultralytics-8.3.41-py3-none-any.whl.metadata (35 kB)\n",
      "Requirement already satisfied: numpy>=1.23.0 in c:\\users\\harsh\\miniconda3\\lib\\site-packages (from ultralytics) (2.1.3)\n",
      "Requirement already satisfied: matplotlib>=3.3.0 in c:\\users\\harsh\\miniconda3\\lib\\site-packages (from ultralytics) (3.9.3)\n",
      "Requirement already satisfied: opencv-python>=4.6.0 in c:\\users\\harsh\\miniconda3\\lib\\site-packages (from ultralytics) (4.10.0.84)\n",
      "Requirement already satisfied: pillow>=7.1.2 in c:\\users\\harsh\\miniconda3\\lib\\site-packages (from ultralytics) (11.0.0)\n",
      "Requirement already satisfied: pyyaml>=5.3.1 in c:\\users\\harsh\\miniconda3\\lib\\site-packages (from ultralytics) (6.0.2)\n",
      "Requirement already satisfied: requests>=2.23.0 in c:\\users\\harsh\\miniconda3\\lib\\site-packages (from ultralytics) (2.32.3)\n",
      "Collecting scipy>=1.4.1 (from ultralytics)\n",
      "  Using cached scipy-1.14.1-cp312-cp312-win_amd64.whl.metadata (60 kB)\n",
      "Requirement already satisfied: torch>=1.8.0 in c:\\users\\harsh\\miniconda3\\lib\\site-packages (from ultralytics) (2.5.1+cu118)\n",
      "Requirement already satisfied: torchvision>=0.9.0 in c:\\users\\harsh\\miniconda3\\lib\\site-packages (from ultralytics) (0.20.1+cu118)\n",
      "Requirement already satisfied: tqdm>=4.64.0 in c:\\users\\harsh\\miniconda3\\lib\\site-packages (from ultralytics) (4.66.4)\n",
      "Requirement already satisfied: psutil in c:\\users\\harsh\\miniconda3\\lib\\site-packages (from ultralytics) (6.1.0)\n",
      "Collecting py-cpuinfo (from ultralytics)\n",
      "  Downloading py_cpuinfo-9.0.0-py3-none-any.whl.metadata (794 bytes)\n",
      "Requirement already satisfied: pandas>=1.1.4 in c:\\users\\harsh\\miniconda3\\lib\\site-packages (from ultralytics) (2.2.3)\n",
      "Collecting seaborn>=0.11.0 (from ultralytics)\n",
      "  Using cached seaborn-0.13.2-py3-none-any.whl.metadata (5.4 kB)\n",
      "Collecting ultralytics-thop>=2.0.0 (from ultralytics)\n",
      "  Downloading ultralytics_thop-2.0.12-py3-none-any.whl.metadata (9.4 kB)\n",
      "Requirement already satisfied: contourpy>=1.0.1 in c:\\users\\harsh\\miniconda3\\lib\\site-packages (from matplotlib>=3.3.0->ultralytics) (1.3.1)\n",
      "Requirement already satisfied: cycler>=0.10 in c:\\users\\harsh\\miniconda3\\lib\\site-packages (from matplotlib>=3.3.0->ultralytics) (0.12.1)\n",
      "Requirement already satisfied: fonttools>=4.22.0 in c:\\users\\harsh\\miniconda3\\lib\\site-packages (from matplotlib>=3.3.0->ultralytics) (4.55.1)\n",
      "Requirement already satisfied: kiwisolver>=1.3.1 in c:\\users\\harsh\\miniconda3\\lib\\site-packages (from matplotlib>=3.3.0->ultralytics) (1.4.7)\n",
      "Requirement already satisfied: packaging>=20.0 in c:\\users\\harsh\\miniconda3\\lib\\site-packages (from matplotlib>=3.3.0->ultralytics) (24.1)\n",
      "Requirement already satisfied: pyparsing>=2.3.1 in c:\\users\\harsh\\miniconda3\\lib\\site-packages (from matplotlib>=3.3.0->ultralytics) (3.2.0)\n",
      "Requirement already satisfied: python-dateutil>=2.7 in c:\\users\\harsh\\miniconda3\\lib\\site-packages (from matplotlib>=3.3.0->ultralytics) (2.9.0.post0)\n",
      "Requirement already satisfied: pytz>=2020.1 in c:\\users\\harsh\\miniconda3\\lib\\site-packages (from pandas>=1.1.4->ultralytics) (2024.2)\n",
      "Requirement already satisfied: tzdata>=2022.7 in c:\\users\\harsh\\miniconda3\\lib\\site-packages (from pandas>=1.1.4->ultralytics) (2024.2)\n",
      "Requirement already satisfied: charset-normalizer<4,>=2 in c:\\users\\harsh\\miniconda3\\lib\\site-packages (from requests>=2.23.0->ultralytics) (3.3.2)\n",
      "Requirement already satisfied: idna<4,>=2.5 in c:\\users\\harsh\\miniconda3\\lib\\site-packages (from requests>=2.23.0->ultralytics) (3.7)\n",
      "Requirement already satisfied: urllib3<3,>=1.21.1 in c:\\users\\harsh\\miniconda3\\lib\\site-packages (from requests>=2.23.0->ultralytics) (2.2.2)\n",
      "Requirement already satisfied: certifi>=2017.4.17 in c:\\users\\harsh\\miniconda3\\lib\\site-packages (from requests>=2.23.0->ultralytics) (2024.7.4)\n",
      "Requirement already satisfied: filelock in c:\\users\\harsh\\miniconda3\\lib\\site-packages (from torch>=1.8.0->ultralytics) (3.13.1)\n",
      "Requirement already satisfied: typing-extensions>=4.8.0 in c:\\users\\harsh\\miniconda3\\lib\\site-packages (from torch>=1.8.0->ultralytics) (4.9.0)\n",
      "Requirement already satisfied: networkx in c:\\users\\harsh\\miniconda3\\lib\\site-packages (from torch>=1.8.0->ultralytics) (3.2.1)\n",
      "Requirement already satisfied: jinja2 in c:\\users\\harsh\\miniconda3\\lib\\site-packages (from torch>=1.8.0->ultralytics) (3.1.4)\n",
      "Requirement already satisfied: fsspec in c:\\users\\harsh\\miniconda3\\lib\\site-packages (from torch>=1.8.0->ultralytics) (2024.2.0)\n",
      "Requirement already satisfied: setuptools in c:\\users\\harsh\\miniconda3\\lib\\site-packages (from torch>=1.8.0->ultralytics) (72.1.0)\n",
      "Requirement already satisfied: sympy==1.13.1 in c:\\users\\harsh\\miniconda3\\lib\\site-packages (from torch>=1.8.0->ultralytics) (1.13.1)\n",
      "Requirement already satisfied: mpmath<1.4,>=1.1.0 in c:\\users\\harsh\\miniconda3\\lib\\site-packages (from sympy==1.13.1->torch>=1.8.0->ultralytics) (1.3.0)\n",
      "Requirement already satisfied: colorama in c:\\users\\harsh\\miniconda3\\lib\\site-packages (from tqdm>=4.64.0->ultralytics) (0.4.6)\n",
      "Requirement already satisfied: six>=1.5 in c:\\users\\harsh\\miniconda3\\lib\\site-packages (from python-dateutil>=2.7->matplotlib>=3.3.0->ultralytics) (1.16.0)\n",
      "Requirement already satisfied: MarkupSafe>=2.0 in c:\\users\\harsh\\miniconda3\\lib\\site-packages (from jinja2->torch>=1.8.0->ultralytics) (3.0.2)\n",
      "Downloading ultralytics-8.3.41-py3-none-any.whl (899 kB)\n",
      "   ---------------------------------------- 0.0/899.1 kB ? eta -:--:--\n",
      "   --------------------------------------- 899.1/899.1 kB 13.6 MB/s eta 0:00:00\n",
      "Using cached scipy-1.14.1-cp312-cp312-win_amd64.whl (44.5 MB)\n",
      "Using cached seaborn-0.13.2-py3-none-any.whl (294 kB)\n",
      "Downloading ultralytics_thop-2.0.12-py3-none-any.whl (26 kB)\n",
      "Downloading py_cpuinfo-9.0.0-py3-none-any.whl (22 kB)\n",
      "Installing collected packages: py-cpuinfo, scipy, ultralytics-thop, seaborn, ultralytics\n",
      "Successfully installed py-cpuinfo-9.0.0 scipy-1.14.1 seaborn-0.13.2 ultralytics-8.3.41 ultralytics-thop-2.0.12\n"
     ]
    }
   ],
   "source": [
    "!pip install opencv-python\n",
    "!pip install ultralytics"
   ]
  },
  {
   "cell_type": "code",
   "execution_count": null,
   "id": "a72c7422c9297302",
   "metadata": {},
   "outputs": [],
   "source": [
    "import logging\n",
    "\n",
    "# Setup logger\n",
    "import logging\n",
    "logger = logging.getLogger()\n",
    "logger.setLevel(logging.DEBUG)"
   ]
  },
  {
   "cell_type": "code",
   "execution_count": null,
   "id": "4a5cbd3c90718f1c",
   "metadata": {},
   "outputs": [],
   "source": [
    "import os\n",
    "from pathlib import Path\n",
    "from glob import glob\n",
    "import shutil\n",
    "import cv2"
   ]
  },
  {
   "cell_type": "code",
   "execution_count": null,
   "id": "3cf74c6cd46f9631",
   "metadata": {},
   "outputs": [],
   "source": [
    "os.makedirs(\"data/yolo_dataset/images/train\", exist_ok=True)\n",
    "os.makedirs(\"data/yolo_dataset/images/val\", exist_ok=True)\n",
    "os.makedirs(\"data/yolo_dataset/labels/train\", exist_ok=True)\n",
    "os.makedirs(\"data/yolo_dataset/labels/val\", exist_ok=True)"
   ]
  },
  {
   "cell_type": "code",
   "execution_count": null,
   "id": "782aad68ff6d32ec",
   "metadata": {},
   "outputs": [],
   "source": [
    "# Define class mapping\n",
    "class_mapping = {\n",
    "    'OOO': 0,  # Normal\n",
    "    'BOO': 1,  # Braking\n",
    "    'OLO': 2,  # Left signal\n",
    "    'BLO': 3,  # Brake + Left signal\n",
    "    'OOR': 4,  # Right signal\n",
    "    'BOR': 5,  # Brake + Right signal\n",
    "    'OLR': 6,  # Hazard lights\n",
    "    'BLR': 7   # Brake + Hazard lights\n",
    "}\n"
   ]
  },
  {
   "cell_type": "code",
   "execution_count": null,
   "id": "e76cbcef",
   "metadata": {},
   "outputs": [],
   "source": []
  },
  {
   "cell_type": "code",
   "execution_count": null,
   "id": "94acf1944bb870d4",
   "metadata": {},
   "outputs": [],
   "source": [
    "def process_images(footage_path, split='train'):\n",
    "    # logger.info(\"Processing footage path: {footage_path}\")\n",
    "\n",
    "    # Get all frame paths - add light_mask to the path\n",
    "    footage_path = Path(footage_path)  # Convert to Path if it isn't already\n",
    "    frame_paths = list(footage_path.rglob('light_mask/frame*.png'))\n",
    "    # logger.info(f\"Found {len(frame_paths)} frames\")\n",
    "\n",
    "    for frame_path in frame_paths:\n",
    "        # try:\n",
    "        # Read image\n",
    "        img = cv2.imread(str(frame_path))  # cv2.imread needs string path\n",
    "        if img is None:\n",
    "            logger.error(f\"Failed to read image: {frame_path}\")\n",
    "            continue\n",
    "\n",
    "        # Extract class from path\n",
    "        frame_path_str = str(frame_path)  # Convert to string for pattern matching\n",
    "        for class_name in class_mapping.keys():\n",
    "            if f\"_{class_name}_\" in frame_path_str:\n",
    "                break\n",
    "        else:\n",
    "            logger.error(f\"Could not find class name in path: {frame_path}\")\n",
    "            continue\n",
    "\n",
    "        # logger.info(f\"Found class: {class_name}\")\n",
    "\n",
    "        # Generate filename\n",
    "        filename = frame_path.name\n",
    "\n",
    "        # Create destination paths using Path\n",
    "        dest_path = Path(f\"data/yolo_dataset/images/{split}/{filename}\")\n",
    "        label_path = Path(f\"data/yolo_dataset/labels/{split}/{filename}\").with_suffix('.txt')\n",
    "\n",
    "        # logger.info(f\"Copying to: {dest_path}\")\n",
    "\n",
    "        # Copy image\n",
    "        shutil.copy2(str(frame_path), str(dest_path))\n",
    "\n",
    "        # Create label file\n",
    "        with open(label_path, 'w') as f:\n",
    "            f.write(f'{class_mapping[class_name]} 0.5 0.8 0.3 0.2\\n')\n",
    "\n",
    "        # logger.info(f\"Successfully processed: {filename}\")\n",
    "\n",
    "        # except Exception as e:\n",
    "        #     logger.error(f\"Error processing {frame_path}: {str(e)}\")"
   ]
  },
  {
   "cell_type": "code",
   "execution_count": null,
   "id": "8221f176c6c2aa14",
   "metadata": {},
   "outputs": [],
   "source": [
    "base_path = Path(\"data/rear_signal_dataset\")\n",
    "\n",
    "with open('data/rear_signal_dataset/Easy.txt', 'r') as f:\n",
    "    easy_sequences = f.read().splitlines()\n",
    "logger.info(f\"Found {len(easy_sequences)} easy sequences\")\n",
    "\n",
    "# Split into train and validation\n",
    "train_sequences = easy_sequences[:int(len(easy_sequences)*0.8)]\n",
    "val_sequences = easy_sequences[int(len(easy_sequences)*0.8):]\n",
    "\n",
    "logger.debug(f\"Processing {len(train_sequences)} train sequences...\")\n",
    "for seq in train_sequences:\n",
    "    # Reconstruct the correct path\n",
    "    # Extract the base parts of the sequence name\n",
    "    base_parts = seq.split('_')[:4]  # Get the first 4 parts\n",
    "    base_name = '_'.join(base_parts)\n",
    "    class_name = seq.split('_')[-2]  # Get class name (BOO, OOO, etc)\n",
    "    sequence_num = seq.split('_')[-1]  # Get sequence number\n",
    "\n",
    "    # Construct the full path\n",
    "    seq_path = base_path.joinpath(base_name, f\"{base_name}_{class_name}\", f\"{base_name}_{class_name}_{sequence_num}\")\n",
    "    # logger.debug(f\"Looking for sequence at: {seq_path}\")\n",
    "\n",
    "    if os.path.exists(seq_path):\n",
    "        process_images(seq_path, 'train')\n",
    "    else:\n",
    "        if base_parts[0].startswith('test'):\n",
    "            complete_split = seq.split('_')\n",
    "            if complete_split[2].startswith('idx'):\n",
    "                base_parts = seq.split('_')[:3]\n",
    "            else:\n",
    "                base_parts = seq.split('_')[:2]\n",
    "            base_name = '_'.join(base_parts)\n",
    "            class_name = seq.split('_')[-2]\n",
    "            sequence_num = seq.split('_')[-1]\n",
    "\n",
    "            # construct full path for test\n",
    "            seq_path = base_path.joinpath(base_name, f\"{base_name}_{class_name}\", f\"{base_name}_{class_name}_{sequence_num}\")\n",
    "            # logger.debug(f\"Looking for sequence at: {seq_path}\")\n",
    "\n",
    "            if os.path.exists(seq_path):\n",
    "                process_images(seq_path, 'train')\n",
    "            else:\n",
    "                logger.error(f\"Sequence path does not exist: {seq_path}\")\n",
    "\n",
    "\n",
    "logger.debug(f\"Processing {len(val_sequences)} validation sequences...\")\n",
    "for seq in val_sequences:\n",
    "    # logger.debug(f\"Processing validation sequence: {seq}\")\n",
    "    base_parts = seq.split('_')[:4]\n",
    "    base_name = '_'.join(base_parts)\n",
    "    class_name = seq.split('_')[-2]\n",
    "    sequence_num = seq.split('_')[-1]\n",
    "\n",
    "    seq_path = base_path.joinpath(base_name, f\"{base_name}_{class_name}\", f\"{base_name}_{class_name}_{sequence_num}\")\n",
    "\n",
    "    if os.path.exists(seq_path):\n",
    "        process_images(seq_path, 'val')\n",
    "    else:\n",
    "        if base_parts[0].startswith('test'):\n",
    "            complete_split = seq.split('_')\n",
    "            if complete_split[2].startswith('idx'):\n",
    "                base_parts = seq.split('_')[:3]\n",
    "            else:\n",
    "                base_parts = seq.split('_')[:2]\n",
    "            base_name = '_'.join(base_parts)\n",
    "            class_name = seq.split('_')[-2]\n",
    "            sequence_num = seq.split('_')[-1]\n",
    "\n",
    "            # Construct full path for test\n",
    "            seq_path = base_path.joinpath(base_name, f\"{base_name}_{class_name}\", f\"{base_name}_{class_name}_{sequence_num}\")\n",
    "            # logger.debug(f\"Looking for sequence at: {seq_path}\")\n",
    "\n",
    "            if os.path.exists(seq_path):\n",
    "                process_images(seq_path, 'val')\n",
    "            else:\n",
    "                logger.error(f\"Sequence path does not exist: {seq_path}\")\n",
    "\n",
    "\n",
    "# Print final statistics\n",
    "train_images = len(glob('data/yolo_dataset/images/train/*.png'))\n",
    "val_images = len(glob('data/yolo_dataset/images/val/*.png'))\n",
    "\n",
    "logger.info(f\"Final Statistics:\")\n",
    "logger.info(f\"Training images: {train_images}\")\n",
    "logger.info(f\"Validation images: {val_images}\")\n"
   ]
  },
  {
   "cell_type": "code",
   "execution_count": 66,
   "id": "4a2384102c81a31e",
   "metadata": {
    "ExecuteTime": {
     "end_time": "2024-12-05T08:26:24.749717Z",
     "start_time": "2024-12-05T08:26:24.741143Z"
    }
   },
   "outputs": [],
   "source": [
    "# Create yaml file first\n",
    "yaml_content = f\"\"\"\n",
    "path: {os.path.abspath('data/yolo_dataset')}  # dataset root dir\n",
    "train: images/train  # train images (relative to 'path')\n",
    "val: images/val  # val images (relative to 'path')\n",
    "\n",
    "# Classes\n",
    "nc: {len(class_mapping)}  # number of classes\n",
    "names: {list(class_mapping.keys())}  # class names\n",
    "\"\"\"\n",
    "\n",
    "with open('dataset.yaml', 'w') as f:\n",
    "    f.write(yaml_content)"
   ]
  },
  {
   "cell_type": "code",
   "execution_count": 71,
   "id": "f99c1d0ac6d491",
   "metadata": {
    "ExecuteTime": {
     "end_time": "2024-12-05T09:12:06.211887Z",
     "start_time": "2024-12-05T09:12:00.564978Z"
    }
   },
   "outputs": [
    {
     "name": "stdout",
     "output_type": "stream",
     "text": [
      "Found existing installation: ultralytics 8.0.196\n",
      "Uninstalling ultralytics-8.0.196:\n",
      "  Successfully uninstalled ultralytics-8.0.196\n",
      "Requirement already satisfied: torch in c:\\users\\harsh\\miniconda3\\lib\\site-packages (2.5.1+cu118)\n",
      "Requirement already satisfied: torchvision in c:\\users\\harsh\\miniconda3\\lib\\site-packages (0.20.1+cu118)\n",
      "Collecting ultralytics==8.0.196\n",
      "  Using cached ultralytics-8.0.196-py3-none-any.whl.metadata (31 kB)\n",
      "Requirement already satisfied: matplotlib>=3.3.0 in c:\\users\\harsh\\miniconda3\\lib\\site-packages (from ultralytics==8.0.196) (3.9.3)\n",
      "Requirement already satisfied: numpy>=1.22.2 in c:\\users\\harsh\\miniconda3\\lib\\site-packages (from ultralytics==8.0.196) (2.1.3)\n",
      "Requirement already satisfied: opencv-python>=4.6.0 in c:\\users\\harsh\\miniconda3\\lib\\site-packages (from ultralytics==8.0.196) (4.10.0.84)\n",
      "Requirement already satisfied: pillow>=7.1.2 in c:\\users\\harsh\\miniconda3\\lib\\site-packages (from ultralytics==8.0.196) (11.0.0)\n",
      "Requirement already satisfied: pyyaml>=5.3.1 in c:\\users\\harsh\\miniconda3\\lib\\site-packages (from ultralytics==8.0.196) (6.0.2)\n",
      "Requirement already satisfied: requests>=2.23.0 in c:\\users\\harsh\\miniconda3\\lib\\site-packages (from ultralytics==8.0.196) (2.32.3)\n",
      "Requirement already satisfied: scipy>=1.4.1 in c:\\users\\harsh\\miniconda3\\lib\\site-packages (from ultralytics==8.0.196) (1.14.1)\n",
      "Requirement already satisfied: tqdm>=4.64.0 in c:\\users\\harsh\\miniconda3\\lib\\site-packages (from ultralytics==8.0.196) (4.66.4)\n",
      "Requirement already satisfied: pandas>=1.1.4 in c:\\users\\harsh\\miniconda3\\lib\\site-packages (from ultralytics==8.0.196) (2.2.3)\n",
      "Requirement already satisfied: seaborn>=0.11.0 in c:\\users\\harsh\\miniconda3\\lib\\site-packages (from ultralytics==8.0.196) (0.13.2)\n",
      "Requirement already satisfied: psutil in c:\\users\\harsh\\miniconda3\\lib\\site-packages (from ultralytics==8.0.196) (6.1.0)\n",
      "Requirement already satisfied: py-cpuinfo in c:\\users\\harsh\\miniconda3\\lib\\site-packages (from ultralytics==8.0.196) (9.0.0)\n",
      "Requirement already satisfied: thop>=0.1.1 in c:\\users\\harsh\\miniconda3\\lib\\site-packages (from ultralytics==8.0.196) (0.1.1.post2209072238)\n",
      "Requirement already satisfied: filelock in c:\\users\\harsh\\miniconda3\\lib\\site-packages (from torch) (3.13.1)\n",
      "Requirement already satisfied: typing-extensions>=4.8.0 in c:\\users\\harsh\\miniconda3\\lib\\site-packages (from torch) (4.9.0)\n",
      "Requirement already satisfied: networkx in c:\\users\\harsh\\miniconda3\\lib\\site-packages (from torch) (3.2.1)\n",
      "Requirement already satisfied: jinja2 in c:\\users\\harsh\\miniconda3\\lib\\site-packages (from torch) (3.1.4)\n",
      "Requirement already satisfied: fsspec in c:\\users\\harsh\\miniconda3\\lib\\site-packages (from torch) (2024.2.0)\n",
      "Requirement already satisfied: setuptools in c:\\users\\harsh\\miniconda3\\lib\\site-packages (from torch) (72.1.0)\n",
      "Requirement already satisfied: sympy==1.13.1 in c:\\users\\harsh\\miniconda3\\lib\\site-packages (from torch) (1.13.1)\n",
      "Requirement already satisfied: mpmath<1.4,>=1.1.0 in c:\\users\\harsh\\miniconda3\\lib\\site-packages (from sympy==1.13.1->torch) (1.3.0)\n",
      "Requirement already satisfied: contourpy>=1.0.1 in c:\\users\\harsh\\miniconda3\\lib\\site-packages (from matplotlib>=3.3.0->ultralytics==8.0.196) (1.3.1)\n",
      "Requirement already satisfied: cycler>=0.10 in c:\\users\\harsh\\miniconda3\\lib\\site-packages (from matplotlib>=3.3.0->ultralytics==8.0.196) (0.12.1)\n",
      "Requirement already satisfied: fonttools>=4.22.0 in c:\\users\\harsh\\miniconda3\\lib\\site-packages (from matplotlib>=3.3.0->ultralytics==8.0.196) (4.55.1)\n",
      "Requirement already satisfied: kiwisolver>=1.3.1 in c:\\users\\harsh\\miniconda3\\lib\\site-packages (from matplotlib>=3.3.0->ultralytics==8.0.196) (1.4.7)\n",
      "Requirement already satisfied: packaging>=20.0 in c:\\users\\harsh\\miniconda3\\lib\\site-packages (from matplotlib>=3.3.0->ultralytics==8.0.196) (24.1)\n",
      "Requirement already satisfied: pyparsing>=2.3.1 in c:\\users\\harsh\\miniconda3\\lib\\site-packages (from matplotlib>=3.3.0->ultralytics==8.0.196) (3.2.0)\n",
      "Requirement already satisfied: python-dateutil>=2.7 in c:\\users\\harsh\\miniconda3\\lib\\site-packages (from matplotlib>=3.3.0->ultralytics==8.0.196) (2.9.0.post0)\n",
      "Requirement already satisfied: pytz>=2020.1 in c:\\users\\harsh\\miniconda3\\lib\\site-packages (from pandas>=1.1.4->ultralytics==8.0.196) (2024.2)\n",
      "Requirement already satisfied: tzdata>=2022.7 in c:\\users\\harsh\\miniconda3\\lib\\site-packages (from pandas>=1.1.4->ultralytics==8.0.196) (2024.2)\n",
      "Requirement already satisfied: charset-normalizer<4,>=2 in c:\\users\\harsh\\miniconda3\\lib\\site-packages (from requests>=2.23.0->ultralytics==8.0.196) (3.3.2)\n",
      "Requirement already satisfied: idna<4,>=2.5 in c:\\users\\harsh\\miniconda3\\lib\\site-packages (from requests>=2.23.0->ultralytics==8.0.196) (3.7)\n",
      "Requirement already satisfied: urllib3<3,>=1.21.1 in c:\\users\\harsh\\miniconda3\\lib\\site-packages (from requests>=2.23.0->ultralytics==8.0.196) (2.2.2)\n",
      "Requirement already satisfied: certifi>=2017.4.17 in c:\\users\\harsh\\miniconda3\\lib\\site-packages (from requests>=2.23.0->ultralytics==8.0.196) (2024.7.4)\n",
      "Requirement already satisfied: colorama in c:\\users\\harsh\\miniconda3\\lib\\site-packages (from tqdm>=4.64.0->ultralytics==8.0.196) (0.4.6)\n",
      "Requirement already satisfied: MarkupSafe>=2.0 in c:\\users\\harsh\\miniconda3\\lib\\site-packages (from jinja2->torch) (3.0.2)\n",
      "Requirement already satisfied: six>=1.5 in c:\\users\\harsh\\miniconda3\\lib\\site-packages (from python-dateutil>=2.7->matplotlib>=3.3.0->ultralytics==8.0.196) (1.16.0)\n",
      "Using cached ultralytics-8.0.196-py3-none-any.whl (631 kB)\n",
      "Installing collected packages: ultralytics\n",
      "Successfully installed ultralytics-8.0.196\n"
     ]
    }
   ],
   "source": [
    "!pip uninstall -y ultralytics\n",
    "!pip install torch torchvision ultralytics==8.0.196\n"
   ]
  },
  {
   "cell_type": "code",
   "execution_count": 72,
   "id": "7e30eb93b379aaa7",
   "metadata": {
    "ExecuteTime": {
     "end_time": "2024-12-05T09:32:27.328890Z",
     "start_time": "2024-12-05T09:12:10.739207Z"
    }
   },
   "outputs": [
    {
     "name": "stdout",
     "output_type": "stream",
     "text": [
      "^C\n"
     ]
    }
   ],
   "source": [
    "!yolo task=detect mode=train model=yolov8n.pt data=dataset.yaml epochs=5 imgsz=640 batch=16 device=cuda\n",
    "\n"
   ]
  },
  {
   "cell_type": "code",
   "execution_count": null,
   "id": "1213d0d3f1907d60",
   "metadata": {},
   "outputs": [],
   "source": []
  }
 ],
 "metadata": {
  "kernelspec": {
   "display_name": "Python 3",
   "language": "python",
   "name": "python3"
  },
  "language_info": {
   "codemirror_mode": {
    "name": "ipython",
    "version": 2
   },
   "file_extension": ".py",
   "mimetype": "text/x-python",
   "name": "python",
   "nbconvert_exporter": "python",
   "pygments_lexer": "ipython2",
   "version": "2.7.6"
  }
 },
 "nbformat": 4,
 "nbformat_minor": 5
}
